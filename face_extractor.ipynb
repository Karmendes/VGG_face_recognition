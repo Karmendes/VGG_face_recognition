{
 "metadata": {
  "language_info": {
   "codemirror_mode": {
    "name": "ipython",
    "version": 3
   },
   "file_extension": ".py",
   "mimetype": "text/x-python",
   "name": "python",
   "nbconvert_exporter": "python",
   "pygments_lexer": "ipython3",
   "version": "3.7.1-final"
  },
  "orig_nbformat": 2,
  "kernelspec": {
   "name": "liveness",
   "display_name": "liveness"
  }
 },
 "nbformat": 4,
 "nbformat_minor": 2,
 "cells": [
  {
   "cell_type": "code",
   "execution_count": 1,
   "metadata": {},
   "outputs": [],
   "source": [
    "from pre_process import pre_process_frame\n",
    "from imutils import paths\n",
    "import cv2\n",
    "import matplotlib.pyplot as plt"
   ]
  },
  {
   "cell_type": "code",
   "execution_count": 2,
   "metadata": {},
   "outputs": [],
   "source": [
    "detector = cv2.CascadeClassifier('detector.xml')"
   ]
  },
  {
   "cell_type": "code",
   "execution_count": 3,
   "metadata": {},
   "outputs": [],
   "source": [
    "teste = list(paths.list_images(\"Test/\"))\n",
    "treino = list(paths.list_images(\"Train/\"))"
   ]
  },
  {
   "cell_type": "code",
   "execution_count": 6,
   "metadata": {},
   "outputs": [],
   "source": [
    "for path in teste:\n",
    "    pixels = cv2.imread(path)\n",
    "    results = pre_process_frame(pixels,detector)\n",
    "    if len(results) > 0:\n",
    "        x1, y1, width, height = results\n",
    "        x2, y2 = x1 + width, y1 + height\n",
    "        face = pixels[y1:y2, x1:x2]\n",
    "        name = path.split(os.path.sep)[-2]\n",
    "        name_path = path.split(os.path.sep)[-1]\n",
    "        if os.listdir('Test_face').count(name) < 1:\n",
    "            os.mkdir(f'Test_face/{name}/')\n",
    "        cv2.imwrite(f'Test_face/{name}/{name_path}',face)"
   ]
  },
  {
   "cell_type": "code",
   "execution_count": 7,
   "metadata": {},
   "outputs": [],
   "source": [
    "for path in treino:\n",
    "    pixels = cv2.imread(path)\n",
    "    results = pre_process_frame(pixels,detector)\n",
    "    if len(results) > 0:\n",
    "        x1, y1, width, height = results\n",
    "        x2, y2 = x1 + width, y1 + height\n",
    "        face = pixels[y1:y2, x1:x2]\n",
    "        name = path.split(os.path.sep)[-2]\n",
    "        name_path = path.split(os.path.sep)[-1]\n",
    "        if os.listdir('Train_face').count(name) < 1:\n",
    "            os.mkdir(f'Train_face/{name}/')\n",
    "        cv2.imwrite(f'Train_face/{name}/{name_path}',face)"
   ]
  }
 ]
}